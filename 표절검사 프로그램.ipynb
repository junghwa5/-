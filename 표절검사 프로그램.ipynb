{
 "cells": [
  {
   "cell_type": "code",
   "execution_count": 4,
   "metadata": {},
   "outputs": [],
   "source": [
    "# 영어 알파벳을 제외한 모든 숫자 및 기호를 space로 변환\n",
    "# 온점, 느낌표, 물음표로 문장을 구분하여 리스트에 저장\n",
    "def replace_space(line):\n",
    "    check_word = line.split()       # 각 문자를 검사하기 위해 단어로 나눔\n",
    "    finish_content = list()\n",
    "    n = len(check_word)\n",
    "    sentence = list()\n",
    "    for i in range(n):\n",
    "        word = check_word[i]        # 검사할 단어 저장\n",
    "        num = len(word)\n",
    "        for j in range(num):\n",
    "            if ord(word[j:j+1]) == 33 or ord(word[j:j+1]) == 46 or ord(word[j:j+1]) == 63:\n",
    "                # 느낌표(!)나 온점(.)이나 물음표(?)인 경우, space로 변환하고 문장을 나눔\n",
    "                word = word.replace(word[j:j + 1], \" \")\n",
    "                word1 = word[0:j+1]\n",
    "                convert_word = word1.split()\n",
    "                sentence.extend(convert_word)       # 문장을 끝마침\n",
    "                finish_content.append(sentence)\n",
    "                del sentence\n",
    "                sentence = list()\n",
    "                for z in range(j):\n",
    "                    word = word.replace(word[z:z+1], \" \")\n",
    "                del convert_word\n",
    "                convert_word = list()\n",
    "            elif ord(word[j:j + 1]) < 65 or 90 < ord(word[j:j + 1]) < 97 or ord(word[j:j + 1]) > 122:\n",
    "                # 영어 알파벳도 아닌 경우, space로 변환\n",
    "                word = word.replace(word[j:j+1], \" \")\n",
    "        convert_word = word.split()\n",
    "        if convert_word != []:\n",
    "            sentence.extend(convert_word)\n",
    "    return finish_content\n"
   ]
  },
  {
   "cell_type": "code",
   "execution_count": 43,
   "metadata": {},
   "outputs": [],
   "source": [
    "# 연속된 단어가 4개 이상 나오는 모든 연속 된 단어를 찾음\n",
    "def plagiarism_detection(content1, content2):\n",
    "    n1 = len(content1)\n",
    "    n2 = len(content2)\n",
    "    caught = list()\n",
    "    # content1의 각 문장마다\n",
    "    for i in range(n1):\n",
    "        c1 = len(content1[i])\n",
    "        if c1 < 4:     # 문장에 단어가 4개 미만이면 그 문장은 검사안함\n",
    "            continue\n",
    "        # content1 한 문장의 단어 개수 - 3\n",
    "        for j in range(c1 - 3):\n",
    "            # content2의 각 문장마다\n",
    "            for k in range(n2):\n",
    "                prospective = list()\n",
    "                c2 = len(content2[k])\n",
    "                if c2 < 4:     # 문장에 단어가 4개 미만이면 그 문장은 검사안함\n",
    "                        break\n",
    "                # content2 한 문장의 단어 개수  - 3\n",
    "                for z in range(c2 - 3):\n",
    "                    # 연속 4개의 단어가 일치하는 경우\n",
    "                    if content1[i][j] == content2[k][z] and content1[i][j+1] == content2[k][z+1] and content1[i][j+2] == content2[k][z+2] and content1[i][j+3] == content2[k][z+3]:\n",
    "                        # 앞의 단어도 일치하는 경우\n",
    "                        if j > 0 and z > 0 and content1[i][j-1] == content2[k][z-1]:\n",
    "                            num = len(caught)\n",
    "                            caught[num-1].append(content1[i][j + 3])\n",
    "                        # 겹치지 않는다면\n",
    "                        else:   \n",
    "                            prospective.append(content1[i][j])\n",
    "                            prospective.append(content1[i][j+1])\n",
    "                            prospective.append(content1[i][j+2])\n",
    "                            prospective.append(content1[i][j+3])\n",
    "                            caught.append(prospective)\n",
    "    return caught\n"
   ]
  },
  {
   "cell_type": "code",
   "execution_count": 53,
   "metadata": {},
   "outputs": [
    {
     "name": "stdout",
     "output_type": "stream",
     "text": [
      "1, Python allows mandatory and optional arguments keyword \n",
      "2, and even arbitrary argument lists \n"
     ]
    }
   ],
   "source": [
    "f1 = open('d1.txt', 'r')     # 파일을 읽기모드로 열기\n",
    "f2 = open('d2.txt', 'r')\n",
    "lines1 = f1.read()         # 파일 내용을 lines1 문자열로 저장\n",
    "lines2 = f2.read()\n",
    "\n",
    "f1_content = replace_space(lines1)\n",
    "f2_content = replace_space(lines2)\n",
    "\n",
    "outcome = plagiarism_detection(f1_content, f2_content)\n",
    "\n",
    "c1 = len(outcome)\n",
    "for i in range(c1):\n",
    "    print(i+1, end = \", \")\n",
    "    c2 = len(outcome[i])\n",
    "    for j in range(c2):\n",
    "        print(outcome[i][j], end = \" \")\n",
    "    print()\n",
    "\n",
    "f1.close()\n",
    "f2.close()\n"
   ]
  },
  {
   "cell_type": "code",
   "execution_count": null,
   "metadata": {},
   "outputs": [],
   "source": []
  }
 ],
 "metadata": {
  "kernelspec": {
   "display_name": "Python 3",
   "language": "python",
   "name": "python3"
  },
  "language_info": {
   "codemirror_mode": {
    "name": "ipython",
    "version": 3
   },
   "file_extension": ".py",
   "mimetype": "text/x-python",
   "name": "python",
   "nbconvert_exporter": "python",
   "pygments_lexer": "ipython3",
   "version": "3.7.1"
  }
 },
 "nbformat": 4,
 "nbformat_minor": 2
}
